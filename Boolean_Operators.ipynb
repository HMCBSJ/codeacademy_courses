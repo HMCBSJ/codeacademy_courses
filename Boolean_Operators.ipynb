{
  "nbformat": 4,
  "nbformat_minor": 0,
  "metadata": {
    "colab": {
      "name": "Boolean Operators",
      "provenance": []
    },
    "kernelspec": {
      "name": "python3",
      "display_name": "Python 3"
    },
    "language_info": {
      "name": "python"
    }
  },
  "cells": [
    {
      "cell_type": "markdown",
      "metadata": {
        "id": "hZu4cObSHZxp"
      },
      "source": [
        "Boolean Operators: and\n",
        "Often, the conditions you want to check in your conditional statement will require more than one boolean expression to cover. In these cases, you can build larger boolean expressions using boolean operators. These operators (also known as logical operators) combine smaller boolean expressions into larger boolean expressions.\n",
        "\n",
        "There are three boolean operators that we will cover:\n",
        "\n",
        "and\n",
        "or\n",
        "not"
      ]
    },
    {
      "cell_type": "code",
      "metadata": {
        "id": "cX9861eJHe1t"
      },
      "source": [
        "statement_one = False\n",
        "\n",
        "statement_two = True\n",
        "\n",
        "credits = 120\n",
        "gpa = 3.4\n",
        "\n",
        "if gpa >= 2.0 and credits >= 120:\n",
        "  print(\"You meet the requirements to graduate!\")"
      ],
      "execution_count": null,
      "outputs": []
    }
  ]
}