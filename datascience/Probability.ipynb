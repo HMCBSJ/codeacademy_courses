{
  "nbformat": 4,
  "nbformat_minor": 0,
  "metadata": {
    "colab": {
      "name": "Probability",
      "provenance": []
    },
    "kernelspec": {
      "name": "python3",
      "display_name": "Python 3"
    },
    "language_info": {
      "name": "python"
    }
  },
  "cells": [
    {
      "cell_type": "markdown",
      "metadata": {
        "id": "hZu4cObSHZxp"
      },
      "source": [
        "*Probability*\n",
        "\n",
        "> In data science, probability is often used to simulate scenarios.\n",
        "\n",
        "The code on the right simulates the birthday problem. Right now the code simulates a room with only 2 people that get random birthdays, and the probability that those 2 people have the same birthday is really low.\n",
        "\n",
        "Change the number 2 to a higher number of your choosing where it says #Change This Number and run the code.\n",
        "\n",
        "Is there a match in the simulation? What’s the probability that there would be a match?\n",
        "\n",
        "Keep changing the number to test out different simulations.\n",
        "\n"
      ]
    },
    {
      "cell_type": "code",
      "metadata": {
        "id": "cX9861eJHe1t"
      },
      "source": [
        "import random\n",
        "\n",
        "\n",
        "num_people_in_room = 2 \t\t\t#Change This Number\n",
        "\n",
        "#Simulate a room with a certain number of people\n",
        "def simulate(num_people):\n",
        "  birthdays = []\n",
        "  print(\"Here's what our room looks like:\\n\")\n",
        "  months = [\"January\", \"February\", \"March\", \"April\", \"May\", \"June\", \"July\", \"August\", \"September\", \"October\", \"November\", \"December\"]\n",
        "\t#Assign a random birthday to each person\n",
        "  for i in range(0, num_people):\n",
        "    #Choose a random month\n",
        "    month_choice = random.choice(months)\n",
        "    #Choose a random day based on month\n",
        "    if month_choice == \"February\":\n",
        "      day = random.randint(1, 29)\n",
        "    elif month_choice == \"April\" or month_choice == \"June\" or month_choice == \"September\" or month_choice == \"November\":\n",
        "      day = random.randint(1, 30)\n",
        "    else:\n",
        "      day = random.randint(1, 31)\n",
        "    birthday = month_choice + \" \" + str(day)\n",
        "    #Store the birthday\n",
        "    birthdays.append(birthday)\n",
        "    print(\"Person {0}'s birthday: {1}\".format(i + 1, birthday))\n",
        "  calculate_probability(num_people)\n",
        "  match = False\n",
        "  #Check for matching birthdays\n",
        "  for i in range(len(birthdays)):\n",
        "    if find_duplicates(birthdays, birthdays[i], i):\n",
        "      match = True\n",
        "      break\n",
        "  if not match:\n",
        "    print(\"\\n\\nIn our simulation, no two people have the same birthday\")\n",
        "\n",
        "#Calculate the probability of there being 2 people with the same birthday\n",
        "def calculate_probability(num_people):\n",
        "  #Check there is at least 2 people in the room\n",
        "  if num_people < 2:\n",
        "    print(\"\\n\\nNot enough people in the room!\")\n",
        "    return\n",
        "  else:\n",
        "    #Calculate the probability\n",
        "    numerator = 365\n",
        "    countdown = 364\n",
        "    for i in range(2, num_people + 1):\n",
        "      numerator = numerator * countdown\n",
        "      countdown -= 1\n",
        "    denominator = 365 ** num_people\n",
        "    probability = 1 - numerator/float(denominator)\n",
        "    #Change probability to percentage\n",
        "    rounded = round(probability*100, 2)\n",
        "    print(\"\\n\\nThe probability that two people in a room of {0} people have the same birthday is nearly {1}%\".format(num_people, rounded))\n",
        "\n",
        "    \n",
        "#Find the same birthday within our list of birthdays\n",
        "def find_duplicates(birthdays_list, birthday, index):\n",
        "  people = []\n",
        "  for i in range(len(birthdays_list)):\n",
        "    if birthdays_list[i] == birthday and i != index:\n",
        "      people.append(i + 1)\n",
        "  if people:\n",
        "    people.append(index + 1)\n",
        "    print(\"\\n\\nIn our simulation, the following people have the same birthdays: \")\n",
        "    for person in people:\n",
        "      print(\"Person {0}\".format(person))\n",
        "    return True\n",
        "  else:\n",
        "    return False\n",
        "\n",
        "simulate(num_people_in_room)"
      ],
      "execution_count": null,
      "outputs": []
    }
  ]
}