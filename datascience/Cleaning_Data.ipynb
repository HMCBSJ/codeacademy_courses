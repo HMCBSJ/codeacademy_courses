{
  "nbformat": 4,
  "nbformat_minor": 0,
  "metadata": {
    "colab": {
      "name": "Cleaning Data",
      "provenance": []
    },
    "kernelspec": {
      "name": "python3",
      "display_name": "Python 3"
    },
    "language_info": {
      "name": "python"
    }
  },
  "cells": [
    {
      "cell_type": "markdown",
      "metadata": {
        "id": "hZu4cObSHZxp"
      },
      "source": [
        "*Cleaning Data*\n",
        "\n",
        "> As soon as you get your data, you’ll be excited to get started. But wait just one moment - we might be ready to go, but how can we be sure that our data is?\n",
        "\n",
        "Data is typically organized in columns and rows, like you’d see in a spreadsheet. But raw data can actually come in a variety of file types and formats. This is especially true if you’re getting your data from elsewhere, like public datasets.\n",
        "\n",
        "We as humans may be able to understand the organizing logic of a dataset, but computers are very literal. A missing value or unlabeled column can completely throw them off their game. Even worse—your program could still run, but your outcomes would be incorrect. Ouch!\n",
        "\n",
        "An important part of the data science process is to clean and organize our datasets, sometimes referred to as data wrangling. Processing a dataset could mean a few different things. For example, it may mean getting rid of invalid data or correctly labeling columns.\n",
        "\n",
        "The Python library Pandas is a great tool for importing and organizing datasets. You can use Pandas to convert a spreadsheet document, like a CSV, into easily readable tables and charts known as DataFrames. We can also use libraries like Pandas to transform our datasets by adding columns and rows to an existing table, or by merging multiple tables together!\n",
        "\n",
        "\n"
      ]
    },
    {
      "cell_type": "code",
      "metadata": {
        "id": "cX9861eJHe1t"
      },
      "source": [
        "import codecademylib3_seaborn\n",
        "import pandas as pd\n",
        "import matplotlib.pyplot as plt\n",
        "import seaborn as sns\n",
        "\n",
        "# Import the CSV files and create the DataFrames:\n",
        "user_data = pd.read_csv(\"user_data.csv\")\n",
        "pop_data = pd.read_csv(\"pop_data.csv\")\n",
        "\n",
        "# Paste print code here:\n",
        "print(user_data.head(15))\n",
        "\n",
        "# Paste merge code here:\n",
        "new_df = pd.merge(user_data, pop_data)\n",
        "print(new_df.head(15))\n",
        "# Paste location code here:\n",
        "\n",
        "new_df.loc[new_df.population_proper < 100000, \"location\"] = \"rural\"\n",
        "new_df.loc[new_df.population_proper >= 100000, \"location\"] = \"urban\"\n",
        "print(new_df.head(15))"
      ],
      "execution_count": null,
      "outputs": []
    }
  ]
}