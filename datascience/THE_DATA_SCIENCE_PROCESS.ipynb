{
  "nbformat": 4,
  "nbformat_minor": 0,
  "metadata": {
    "colab": {
      "name": "THE DATA SCIENCE PROCESS",
      "provenance": []
    },
    "kernelspec": {
      "name": "python3",
      "display_name": "Python 3"
    },
    "language_info": {
      "name": "python"
    }
  },
  "cells": [
    {
      "cell_type": "markdown",
      "metadata": {
        "id": "hZu4cObSHZxp"
      },
      "source": [
        "\n",
        "\n",
        "> THE DATA SCIENCE PROCESS\n",
        "\n",
        "Explore the Data\n",
        "Now that our data is organized, we can begin looking for insights. But just because our data is all cleaned up, we still can’t learn a lot by staring at tables. In order to truly explore our data, we’ll need to go a few steps further.\n",
        "\n",
        "Exploring a dataset is a key step because it will help us quickly understand the data we’re working with and allow us to determine if we need to make any changes before moving forward. Changes could include some additional dataset cleaning, collecting more data, or even modifying the initial question we’re trying to answer. Remember: data science is not necessarily a linear process.\n",
        "\n",
        "There are two strategies for exploring our data:\n",
        "\n",
        "Statistical calculations\n",
        "Data visualizations\n",
        "STATISTICAL CALCULATIONS\n",
        "When we first get a dataset, we can use descriptive statistics to get a sense of what it contains. Descriptive statistics summarize a given dataset using statistical calculations, such as the average (also known as mean), median, and standard deviation. We can immediately learn what are common values in our dataset and how spread out the dataset is (are most of the values the same, or are they wildly different?).\n",
        "\n",
        "We can use a Python module known as NumPy to calculate descriptive statistics values. NumPy (short for Numerical Python) supplies short commands to easily perform statistical calculations, like np.mean(), which calculates the mean of a dataset.\n",
        "\n",
        "DATA VISUALIZATIONS\n",
        "Another way we can quickly get a sense of our data is by visualizing it. The practice of data visualization enables us to see patterns, relationships, and outliers, and how they relate to the entire dataset. Visualizations are particularly useful when working with large amounts of data.\n",
        "\n",
        "Python data visualization libraries like Matplotlib and Seaborn can display distributions and statistical summaries for easy comparison. The JavaScript library D3 enables the creation of interactive data visualizations, which are useful for modeling different scenarios.\n",
        "\n"
      ]
    },
    {
      "cell_type": "code",
      "metadata": {
        "id": "cX9861eJHe1t"
      },
      "source": [
        "import codecademylib3_seaborn\n",
        "import pandas as pd\n",
        "import matplotlib.pyplot as plt\n",
        "import seaborn as sns\n",
        "\n",
        "# Import CSVs:\n",
        "user_data = pd.read_csv(\"user_data.csv\")\n",
        "pop_data = pd.read_csv(\"pop_data.csv\")\n",
        "\n",
        "# Merged tables with location data:\n",
        "new_df = pd.merge(user_data, pop_data)\n",
        "new_df.loc[new_df.population_proper < 100000, \"location\"] = \"rural\"\n",
        "new_df.loc[new_df.population_proper >= 100000, \"location\"] = \"urban\"\n",
        "\n",
        "# Paste histogram code:\n",
        "age = new_df[\"age\"]\n",
        "sns.displot(age)\n",
        "plt.show()\n",
        "# Paste mean age location code:\n",
        "location_mean_age = new_df.groupby(\"location\").age.mean()\n",
        "print(location_mean_age)\n",
        "\n",
        "# Paste barplot code:\n",
        "plt.close()\n",
        "sns.barplot(data=new_df, x=\"location\",y=\"age\")\n",
        "plt.show()\n",
        "\n",
        "# Paste violinplot code:\n",
        "plt.close()\n",
        "sns.violinplot(x=\"location\",y=\"age\",data=new_df)\n",
        "plt.show()"
      ],
      "execution_count": null,
      "outputs": []
    }
  ]
}