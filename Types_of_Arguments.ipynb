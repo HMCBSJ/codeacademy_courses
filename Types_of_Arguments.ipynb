{
  "nbformat": 4,
  "nbformat_minor": 0,
  "metadata": {
    "colab": {
      "name": "Types of Arguments",
      "provenance": []
    },
    "kernelspec": {
      "name": "python3",
      "display_name": "Python 3"
    },
    "language_info": {
      "name": "python"
    }
  },
  "cells": [
    {
      "cell_type": "markdown",
      "metadata": {
        "id": "hZu4cObSHZxp"
      },
      "source": [
        "\n",
        "\n",
        ">Types of Arguments\n",
        "\n",
        "In Python, there are 3 different types of arguments we can give a function.\n",
        "\n",
        "Positional arguments: arguments that can be called by their position in the function definition.\n",
        "\n",
        "Keyword arguments: arguments that can be called by their name.\n",
        "\n",
        "Default arguments: arguments that are given default values.\n",
        "\n",
        "Positional Arguments are arguments we have already been using! Their assignments depend on their positions in the function call. Let’s look at a function called calculate_taxi_price() that allows our users to see how much a taxi would cost to their destination 🚕.\n",
        "\n",
        "def calculate_taxi_price(miles_to_travel, rate, discount):\n",
        "  print(miles_to_travel * rate - discount )\n",
        "In this function, miles_to_travel is positioned as the first parameter, rate is positioned as the second parameter, and discount is the third. When we call our function, the position of the arguments will be mapped to the positions defined in the function declaration.\n",
        "\n",
        " \n",
        "calculate_taxi_price(100, 10, 5)\n",
        "Alternatively, we can use Keyword Arguments where we explicitly refer to what each argument is assigned to in the function call. Notice in the code example below that the arguments do not follow the same order as defined in the function declaration.\n",
        "\n",
        "calculate_taxi_price(rate=0.5, discount=10, miles_to_travel=100)\n",
        "Lastly, sometimes we want to give our function arguments default values. We can provide a default value to an argument by using the assignment operator (=). This will happen in the function declaration rather than the function call.\n",
        "\n",
        "Here is an example where the discount argument in our calculate_taxi_price function will always have a default value of 10:\n",
        "\n",
        "def calculate_taxi_price(miles_to_travel, rate, discount = 10):\n",
        "  print(miles_to_travel * rate - discount )\n",
        "When using a default argument, we can either choose to call the function without providing a value for a discount (and thus our function will use the default value assigned) or overwrite the default argument by providing our own:\n",
        "\n",
        " \n",
        "calculate_taxi_price(10, 0.5)\n",
        " \n",
        " \n",
        "calculate_taxi_price(10, 0.5, 20)\n",
        "Let’s practice using these different types of arguments!\n",
        "\n"
      ]
    },
    {
      "cell_type": "code",
      "metadata": {
        "id": "cX9861eJHe1t"
      },
      "source": [
        "my_team = 27%4\n",
        "print(my_team) \n",
        "\n",
        "print(26%4)\n",
        "print(28%4)"
      ],
      "execution_count": null,
      "outputs": []
    }
  ]
}