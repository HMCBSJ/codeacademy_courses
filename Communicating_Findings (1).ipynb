{
  "nbformat": 4,
  "nbformat_minor": 0,
  "metadata": {
    "colab": {
      "name": "Communicating Findings",
      "provenance": []
    },
    "kernelspec": {
      "name": "python3",
      "display_name": "Python 3"
    },
    "language_info": {
      "name": "python"
    }
  },
  "cells": [
    {
      "cell_type": "markdown",
      "metadata": {
        "id": "hZu4cObSHZxp"
      },
      "source": [
        "\n",
        "\n",
        "> Communicating Findings\n",
        "\n",
        "After you’ve done your analyses, built your models, and gotten some results, it’s time to communicate your findings.\n",
        "\n",
        "Two important parts of communicating data are visualizing and storytelling.\n",
        "\n",
        "VISUALIZING\n",
        "As we saw earlier, visualizations are helpful for exploring and understanding our data; however, they are also very useful for communicating results. So, can you just reuse the ones you already have? Not necessarily. The answer depends on your audience. If you’re giving a presentation at a conference for data scientists who also work at dating companies, then sure, they’ll probably be able to interpret your graphs. But if you’re writing an article for Medium, you’ll probably want to simplify your visualizations and style them so they’re easy to read and highly engaging.\n",
        "\n",
        "STORYTELLING\n",
        "It’s also important to remember that visualizations can’t always stand on their own - they need to tell a story. Storytelling is an important part of data science because it gives meaning to the data. In fact, data storytelling is an important practice in its own right. Contextualizing your findings and giving them a narrative draws people into your work and enables you to convince them as to why these results are important and why they should make a certain decision.\n",
        "\n",
        "\n",
        "\n"
      ]
    },
    {
      "cell_type": "code",
      "metadata": {
        "id": "cX9861eJHe1t"
      },
      "source": [
        "import codecademylib3_seaborn\n",
        "import pandas as pd\n",
        "import matplotlib.pyplot as plt\n",
        "import seaborn as sns\n",
        "\n",
        "# Import CSVs:\n",
        "user_data = pd.read_csv(\"user_data.csv\")\n",
        "pop_data = pd.read_csv(\"pop_data.csv\")\n",
        "\n",
        "# Merged tables with location data:\n",
        "new_df = pd.merge(user_data, pop_data)\n",
        "new_df.loc[new_df.population_proper < 100000, \"location\"] = \"rural\"\n",
        "new_df.loc[new_df.population_proper >= 100000, \"location\"] = \"urban\"\n",
        "\n",
        "# Plot linear regression:\n",
        "sns.regplot(x=\"population_proper\", y=\"age\", data=new_df)\n",
        "plt.show()\n",
        "\n",
        "\n",
        "# Paste code to change the figure style and palette:\n",
        "plt.close()\n",
        " \n",
        "sns.set_style(\"darkgrid\")\n",
        "sns.set_palette(\"bright\")\n",
        "sns.despine()\n",
        " \n",
        "sns.regplot(x=\"population_proper\", y=\"age\", data=new_df)\n",
        " \n",
        "plt.show()\n",
        "# Paste code to change the axes:\n",
        "ax = plt.subplot(1, 1, 1)\n",
        "ax.set_xticks([100000, 1000000, 2000000, 4000000, 8000000])\n",
        "ax.set_xticklabels([\"100k\", \"1m\", \"2m\",\"4m\", \"8m\"])\n",
        " \n",
        "plt.show()\n",
        "# Paste code to title the axes and the plot: \n",
        "ax.set_xlabel(\"City Population\")\n",
        "ax.set_ylabel(\"User Age\")\n",
        "plt.title(\"Age vs Population\")\n",
        " \n",
        "plt.show()\n"
      ],
      "execution_count": null,
      "outputs": []
    }
  ]
}